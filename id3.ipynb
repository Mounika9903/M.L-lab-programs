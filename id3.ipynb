{
 "cells": [
  {
   "cell_type": "code",
   "execution_count": 1,
   "id": "3357df78-5b1d-4ae5-87f8-8cace3942b43",
   "metadata": {},
   "outputs": [
    {
     "name": "stdout",
     "output_type": "stream",
     "text": [
      "\n",
      " Given Play Tennis Data Set:\n",
      "\n",
      "    PlayTennis   Outlook Temperature Humidity    Wind\n",
      "0          No     Sunny         Hot     High    Weak\n",
      "1          No     Sunny         Hot     High  Strong\n",
      "2         Yes  Overcast         Hot     High    Weak\n",
      "3         Yes      Rain        Mild     High    Weak\n",
      "4         Yes      Rain        Cool   Normal    Weak\n",
      "5          No      Rain        Cool   Normal  Strong\n",
      "6         Yes  Overcast        Cool   Normal  Strong\n",
      "7          No     Sunny        Mild     High    Weak\n",
      "8         Yes     Sunny        Cool   Normal    Weak\n",
      "9         Yes      Rain        Mild   Normal    Weak\n",
      "10        Yes     Sunny        Mild   Normal  Strong\n",
      "11        Yes  Overcast        Mild     High  Strong\n",
      "12        Yes  Overcast         Hot   Normal    Weak\n",
      "13         No      Rain        Mild     High  Strong\n",
      "List of Attributes: ['PlayTennis', 'Outlook', 'Temperature', 'Humidity', 'Wind']\n",
      "Predicting Attributes: ['Outlook', 'Temperature', 'Humidity', 'Wind']\n",
      "Gain= [0.2467498197744391, 0.029222565658954647, 0.15183550136234136, 0.04812703040826927]\n",
      "Best Attribute: Outlook\n",
      "Gain= [0.01997309402197489, 0.01997309402197489, 0.9709505944546686]\n",
      "Best Attribute: Wind\n",
      "Gain= [0.5709505944546686, 0.9709505944546686, 0.01997309402197489]\n",
      "Best Attribute: Humidity\n",
      "\n",
      "\n",
      "The Resultant Decision Tree is :\n",
      "\n",
      "{'Outlook': {'Overcast': 'Yes', 'Rain': {'Wind': {'Strong': 'No', 'Weak': 'Yes'}}, 'Sunny': {'Humidity': {'High': 'No', 'Normal': 'Yes'}}}}\n"
     ]
    }
   ],
   "source": [
    "import pandas as pd\n",
    "from collections import Counter \n",
    "import math\n",
    "\n",
    "tennis = pd.read_csv('id3.csv')\n",
    "print(\"\\n Given Play Tennis Data Set:\\n\\n\", tennis)\n",
    "\n",
    "def entropy(alist):\n",
    "    c = Counter(x for x in alist)\n",
    "    instances = len(alist)\n",
    "    prob = [x / instances for x in c.values()] \n",
    "    return sum( [-p*math.log(p, 2) for p in prob] )\n",
    "\n",
    "def information_gain(d, split, target):\n",
    "    splitting = d.groupby(split)\n",
    "    n = len(d.index)\n",
    "    agent = splitting.agg({target : [entropy, lambda x: len(x)/n] })[target] #aggregating \n",
    "    agent.columns = ['Entropy', 'observations']\n",
    "    newentropy = sum( agent['Entropy'] * agent['observations'] ) \n",
    "    oldentropy = entropy(d[target])\n",
    "    return oldentropy - newentropy\n",
    "\n",
    "def id3(sub, target, a):\n",
    "    count = Counter(x for x in sub[target])        # class of YES /NO \n",
    "    if len(count) == 1:\n",
    "        return next(iter(count))     # next input data set, or raises Stop Iteration when EOF is hit\n",
    "    else:\n",
    "        gain = [information_gain(sub, attr, target) for attr in a]\n",
    "        print(\"Gain=\",gain)\n",
    "        maximum = gain.index(max(gain)) \n",
    "        best = a[maximum]\n",
    "        print(\"Best Attribute:\",best) \n",
    "        tree = {best:{}}\n",
    "        remaining = [i for i in a if i != best]\n",
    "        for val, subset in sub.groupby(best): \n",
    "            subtree = id3(subset,target,remaining) \n",
    "            tree[best][val] = subtree\n",
    "        return tree\n",
    "\n",
    "names = list(tennis.columns) \n",
    "print(\"List of Attributes:\", names) \n",
    "names.remove('PlayTennis') \n",
    "print(\"Predicting Attributes:\", names)\n",
    "\n",
    "tree = id3(tennis,'PlayTennis',names) \n",
    "print(\"\\n\\nThe Resultant Decision Tree is :\\n\") \n",
    "print(tree)\n",
    "\n"
   ]
  },
  {
   "cell_type": "code",
   "execution_count": null,
   "id": "24088234-efa2-4da1-b0da-1e50f55c3649",
   "metadata": {},
   "outputs": [],
   "source": []
  }
 ],
 "metadata": {
  "kernelspec": {
   "display_name": "Python 3 (ipykernel)",
   "language": "python",
   "name": "python3"
  },
  "language_info": {
   "codemirror_mode": {
    "name": "ipython",
    "version": 3
   },
   "file_extension": ".py",
   "mimetype": "text/x-python",
   "name": "python",
   "nbconvert_exporter": "python",
   "pygments_lexer": "ipython3",
   "version": "3.13.2"
  }
 },
 "nbformat": 4,
 "nbformat_minor": 5
}
