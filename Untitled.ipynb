{
 "cells": [
  {
   "cell_type": "code",
   "execution_count": 11,
   "id": "616e45da-5676-4b7f-9b79-d470b7730397",
   "metadata": {},
   "outputs": [
    {
     "name": "stdout",
     "output_type": "stream",
     "text": [
      "\n",
      " The given training data set \n",
      "\n",
      "['Sunny', 'Warm', 'Normal', 'Strong', 'Warm', 'Same', 'Yes']\n",
      "['Sunny', 'Warm', 'High', 'Strong', 'Warm', 'Same', 'Yes']\n",
      "['Rainy', 'Cold', 'High', 'Strong', 'Warm', 'Change', 'No']\n",
      "['Sunny', 'Warm', 'High', 'Strong', 'Cool', 'Change', 'Yes']\n",
      "The initial values of hypothesis \n",
      "['0', '0', '0', '0', '0', '0']\n",
      "For training instance no: 0  the hypothesis is  ['Sunny', 'Warm', 'Normal', 'Strong', 'Warm', 'Same']\n",
      "For training instance no: 1  the hypothesis is  ['Sunny', 'Warm', '?', 'Strong', 'Warm', 'Same']\n",
      "For training instance no: 2  the hypothesis is  ['Sunny', 'Warm', '?', 'Strong', 'Warm', 'Same']\n",
      "For training instance no: 3  the hypothesis is  ['Sunny', 'Warm', '?', 'Strong', '?', '?']\n",
      "The maximally specific hypothesis is  ['Sunny', 'Warm', '?', 'Strong', '?', '?']\n"
     ]
    }
   ],
   "source": [
    "import csv\n",
    "num_attributes=6 \n",
    "a=[]\n",
    "print(\"\\n The given training data set \\n\") \n",
    "csvfile=open('1c.csv','r') \n",
    "reader=csv.reader(csvfile)\n",
    "for row in reader: \n",
    "    a.append(row) \n",
    "    print(row)\n",
    "print(\"The initial values of hypothesis \") \n",
    "hypothesis=['0']*num_attributes \n",
    "print(hypothesis)\n",
    "\n",
    "for j in range(0,num_attributes): \n",
    "    hypothesis[j]=a[0][j]\n",
    "for i in range(0,len(a)): \n",
    "    if(a[i][num_attributes]=='Yes'):\n",
    "        for j in range(0,num_attributes): \n",
    "            if(a[i][j]!=hypothesis[j]):\n",
    "                hypothesis[j]='?' \n",
    "            else:\n",
    "                hypothesis[j]=a[i][j]\n",
    "    print(\"For training instance no:\",i,\" the hypothesis is \"       ,hypothesis) \n",
    "print(\"The maximally specific hypothesis is \",hypothesis)\n",
    "\n",
    "\n",
    "    "
   ]
  },
  {
   "cell_type": "code",
   "execution_count": null,
   "id": "5dd161bb-2920-47e7-bb8e-0668a92ab596",
   "metadata": {},
   "outputs": [],
   "source": []
  }
 ],
 "metadata": {
  "kernelspec": {
   "display_name": "Python 3 (ipykernel)",
   "language": "python",
   "name": "python3"
  },
  "language_info": {
   "codemirror_mode": {
    "name": "ipython",
    "version": 3
   },
   "file_extension": ".py",
   "mimetype": "text/x-python",
   "name": "python",
   "nbconvert_exporter": "python",
   "pygments_lexer": "ipython3",
   "version": "3.13.2"
  }
 },
 "nbformat": 4,
 "nbformat_minor": 5
}
